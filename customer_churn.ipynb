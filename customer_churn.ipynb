{
 "cells": [
  {
   "cell_type": "code",
   "execution_count": 419,
   "id": "83d03f0c-ffd6-461f-9e45-7389420458d3",
   "metadata": {},
   "outputs": [],
   "source": [
    "import numpy as np \n",
    "import pandas as pd\n",
    "import seaborn as sns\n",
    "import matplotlib.ticker as mtick\n",
    "import matplotlib.pyplot as plt\n",
    "%matplotlib inline"
   ]
  },
  {
   "cell_type": "code",
   "execution_count": 420,
   "id": "a061e616-3de7-44f3-a764-25ae072187d8",
   "metadata": {},
   "outputs": [],
   "source": [
    "df = pd.read_csv('WA_Fn-UseC_-Telco-Customer-Churn.csv')"
   ]
  },
  {
   "cell_type": "code",
   "execution_count": 421,
   "id": "4496f319-e4fb-4d8c-9955-ee092965ddfb",
   "metadata": {},
   "outputs": [
    {
     "data": {
      "text/html": [
       "<div>\n",
       "<style scoped>\n",
       "    .dataframe tbody tr th:only-of-type {\n",
       "        vertical-align: middle;\n",
       "    }\n",
       "\n",
       "    .dataframe tbody tr th {\n",
       "        vertical-align: top;\n",
       "    }\n",
       "\n",
       "    .dataframe thead th {\n",
       "        text-align: right;\n",
       "    }\n",
       "</style>\n",
       "<table border=\"1\" class=\"dataframe\">\n",
       "  <thead>\n",
       "    <tr style=\"text-align: right;\">\n",
       "      <th></th>\n",
       "      <th>customerID</th>\n",
       "      <th>gender</th>\n",
       "      <th>SeniorCitizen</th>\n",
       "      <th>Partner</th>\n",
       "      <th>Dependents</th>\n",
       "      <th>tenure</th>\n",
       "      <th>PhoneService</th>\n",
       "      <th>MultipleLines</th>\n",
       "      <th>InternetService</th>\n",
       "      <th>OnlineSecurity</th>\n",
       "      <th>...</th>\n",
       "      <th>DeviceProtection</th>\n",
       "      <th>TechSupport</th>\n",
       "      <th>StreamingTV</th>\n",
       "      <th>StreamingMovies</th>\n",
       "      <th>Contract</th>\n",
       "      <th>PaperlessBilling</th>\n",
       "      <th>PaymentMethod</th>\n",
       "      <th>MonthlyCharges</th>\n",
       "      <th>TotalCharges</th>\n",
       "      <th>Churn</th>\n",
       "    </tr>\n",
       "  </thead>\n",
       "  <tbody>\n",
       "    <tr>\n",
       "      <th>0</th>\n",
       "      <td>7590-VHVEG</td>\n",
       "      <td>Female</td>\n",
       "      <td>0</td>\n",
       "      <td>Yes</td>\n",
       "      <td>No</td>\n",
       "      <td>1</td>\n",
       "      <td>No</td>\n",
       "      <td>No phone service</td>\n",
       "      <td>DSL</td>\n",
       "      <td>No</td>\n",
       "      <td>...</td>\n",
       "      <td>No</td>\n",
       "      <td>No</td>\n",
       "      <td>No</td>\n",
       "      <td>No</td>\n",
       "      <td>Month-to-month</td>\n",
       "      <td>Yes</td>\n",
       "      <td>Electronic check</td>\n",
       "      <td>29.85</td>\n",
       "      <td>29.85</td>\n",
       "      <td>No</td>\n",
       "    </tr>\n",
       "    <tr>\n",
       "      <th>1</th>\n",
       "      <td>5575-GNVDE</td>\n",
       "      <td>Male</td>\n",
       "      <td>0</td>\n",
       "      <td>No</td>\n",
       "      <td>No</td>\n",
       "      <td>34</td>\n",
       "      <td>Yes</td>\n",
       "      <td>No</td>\n",
       "      <td>DSL</td>\n",
       "      <td>Yes</td>\n",
       "      <td>...</td>\n",
       "      <td>Yes</td>\n",
       "      <td>No</td>\n",
       "      <td>No</td>\n",
       "      <td>No</td>\n",
       "      <td>One year</td>\n",
       "      <td>No</td>\n",
       "      <td>Mailed check</td>\n",
       "      <td>56.95</td>\n",
       "      <td>1889.5</td>\n",
       "      <td>No</td>\n",
       "    </tr>\n",
       "    <tr>\n",
       "      <th>2</th>\n",
       "      <td>3668-QPYBK</td>\n",
       "      <td>Male</td>\n",
       "      <td>0</td>\n",
       "      <td>No</td>\n",
       "      <td>No</td>\n",
       "      <td>2</td>\n",
       "      <td>Yes</td>\n",
       "      <td>No</td>\n",
       "      <td>DSL</td>\n",
       "      <td>Yes</td>\n",
       "      <td>...</td>\n",
       "      <td>No</td>\n",
       "      <td>No</td>\n",
       "      <td>No</td>\n",
       "      <td>No</td>\n",
       "      <td>Month-to-month</td>\n",
       "      <td>Yes</td>\n",
       "      <td>Mailed check</td>\n",
       "      <td>53.85</td>\n",
       "      <td>108.15</td>\n",
       "      <td>Yes</td>\n",
       "    </tr>\n",
       "    <tr>\n",
       "      <th>3</th>\n",
       "      <td>7795-CFOCW</td>\n",
       "      <td>Male</td>\n",
       "      <td>0</td>\n",
       "      <td>No</td>\n",
       "      <td>No</td>\n",
       "      <td>45</td>\n",
       "      <td>No</td>\n",
       "      <td>No phone service</td>\n",
       "      <td>DSL</td>\n",
       "      <td>Yes</td>\n",
       "      <td>...</td>\n",
       "      <td>Yes</td>\n",
       "      <td>Yes</td>\n",
       "      <td>No</td>\n",
       "      <td>No</td>\n",
       "      <td>One year</td>\n",
       "      <td>No</td>\n",
       "      <td>Bank transfer (automatic)</td>\n",
       "      <td>42.30</td>\n",
       "      <td>1840.75</td>\n",
       "      <td>No</td>\n",
       "    </tr>\n",
       "    <tr>\n",
       "      <th>4</th>\n",
       "      <td>9237-HQITU</td>\n",
       "      <td>Female</td>\n",
       "      <td>0</td>\n",
       "      <td>No</td>\n",
       "      <td>No</td>\n",
       "      <td>2</td>\n",
       "      <td>Yes</td>\n",
       "      <td>No</td>\n",
       "      <td>Fiber optic</td>\n",
       "      <td>No</td>\n",
       "      <td>...</td>\n",
       "      <td>No</td>\n",
       "      <td>No</td>\n",
       "      <td>No</td>\n",
       "      <td>No</td>\n",
       "      <td>Month-to-month</td>\n",
       "      <td>Yes</td>\n",
       "      <td>Electronic check</td>\n",
       "      <td>70.70</td>\n",
       "      <td>151.65</td>\n",
       "      <td>Yes</td>\n",
       "    </tr>\n",
       "  </tbody>\n",
       "</table>\n",
       "<p>5 rows × 21 columns</p>\n",
       "</div>"
      ],
      "text/plain": [
       "   customerID  gender  SeniorCitizen Partner Dependents  tenure PhoneService  \\\n",
       "0  7590-VHVEG  Female              0     Yes         No       1           No   \n",
       "1  5575-GNVDE    Male              0      No         No      34          Yes   \n",
       "2  3668-QPYBK    Male              0      No         No       2          Yes   \n",
       "3  7795-CFOCW    Male              0      No         No      45           No   \n",
       "4  9237-HQITU  Female              0      No         No       2          Yes   \n",
       "\n",
       "      MultipleLines InternetService OnlineSecurity  ... DeviceProtection  \\\n",
       "0  No phone service             DSL             No  ...               No   \n",
       "1                No             DSL            Yes  ...              Yes   \n",
       "2                No             DSL            Yes  ...               No   \n",
       "3  No phone service             DSL            Yes  ...              Yes   \n",
       "4                No     Fiber optic             No  ...               No   \n",
       "\n",
       "  TechSupport StreamingTV StreamingMovies        Contract PaperlessBilling  \\\n",
       "0          No          No              No  Month-to-month              Yes   \n",
       "1          No          No              No        One year               No   \n",
       "2          No          No              No  Month-to-month              Yes   \n",
       "3         Yes          No              No        One year               No   \n",
       "4          No          No              No  Month-to-month              Yes   \n",
       "\n",
       "               PaymentMethod MonthlyCharges  TotalCharges Churn  \n",
       "0           Electronic check          29.85         29.85    No  \n",
       "1               Mailed check          56.95        1889.5    No  \n",
       "2               Mailed check          53.85        108.15   Yes  \n",
       "3  Bank transfer (automatic)          42.30       1840.75    No  \n",
       "4           Electronic check          70.70        151.65   Yes  \n",
       "\n",
       "[5 rows x 21 columns]"
      ]
     },
     "execution_count": 421,
     "metadata": {},
     "output_type": "execute_result"
    }
   ],
   "source": [
    "df.head()"
   ]
  },
  {
   "cell_type": "code",
   "execution_count": 422,
   "id": "06e2e53f-c0a5-40d8-9c8f-7f414e297c0a",
   "metadata": {},
   "outputs": [
    {
     "data": {
      "text/plain": [
       "(7043, 21)"
      ]
     },
     "execution_count": 422,
     "metadata": {},
     "output_type": "execute_result"
    }
   ],
   "source": [
    "df.shape"
   ]
  },
  {
   "cell_type": "code",
   "execution_count": 423,
   "id": "cbcf323b-5446-4d84-86c9-aa8701a0b06d",
   "metadata": {},
   "outputs": [
    {
     "data": {
      "text/plain": [
       "customerID           object\n",
       "gender               object\n",
       "SeniorCitizen         int64\n",
       "Partner              object\n",
       "Dependents           object\n",
       "tenure                int64\n",
       "PhoneService         object\n",
       "MultipleLines        object\n",
       "InternetService      object\n",
       "OnlineSecurity       object\n",
       "OnlineBackup         object\n",
       "DeviceProtection     object\n",
       "TechSupport          object\n",
       "StreamingTV          object\n",
       "StreamingMovies      object\n",
       "Contract             object\n",
       "PaperlessBilling     object\n",
       "PaymentMethod        object\n",
       "MonthlyCharges      float64\n",
       "TotalCharges         object\n",
       "Churn                object\n",
       "dtype: object"
      ]
     },
     "execution_count": 423,
     "metadata": {},
     "output_type": "execute_result"
    }
   ],
   "source": [
    "df.dtypes"
   ]
  },
  {
   "cell_type": "code",
   "execution_count": 424,
   "id": "e57f82c0-b0f5-4788-82c7-182b062a6e40",
   "metadata": {},
   "outputs": [
    {
     "name": "stdout",
     "output_type": "stream",
     "text": [
      "<class 'pandas.core.frame.DataFrame'>\n",
      "RangeIndex: 7043 entries, 0 to 7042\n",
      "Data columns (total 21 columns):\n",
      " #   Column            Non-Null Count  Dtype  \n",
      "---  ------            --------------  -----  \n",
      " 0   customerID        7043 non-null   object \n",
      " 1   gender            7043 non-null   object \n",
      " 2   SeniorCitizen     7043 non-null   int64  \n",
      " 3   Partner           7043 non-null   object \n",
      " 4   Dependents        7043 non-null   object \n",
      " 5   tenure            7043 non-null   int64  \n",
      " 6   PhoneService      7043 non-null   object \n",
      " 7   MultipleLines     7043 non-null   object \n",
      " 8   InternetService   7043 non-null   object \n",
      " 9   OnlineSecurity    7043 non-null   object \n",
      " 10  OnlineBackup      7043 non-null   object \n",
      " 11  DeviceProtection  7043 non-null   object \n",
      " 12  TechSupport       7043 non-null   object \n",
      " 13  StreamingTV       7043 non-null   object \n",
      " 14  StreamingMovies   7043 non-null   object \n",
      " 15  Contract          7043 non-null   object \n",
      " 16  PaperlessBilling  7043 non-null   object \n",
      " 17  PaymentMethod     7043 non-null   object \n",
      " 18  MonthlyCharges    7043 non-null   float64\n",
      " 19  TotalCharges      7043 non-null   object \n",
      " 20  Churn             7043 non-null   object \n",
      "dtypes: float64(1), int64(2), object(18)\n",
      "memory usage: 1.1+ MB\n"
     ]
    }
   ],
   "source": [
    "df.info()"
   ]
  },
  {
   "cell_type": "code",
   "execution_count": 425,
   "id": "3387b498-1ae8-400e-b2df-249257c8c853",
   "metadata": {},
   "outputs": [
    {
     "data": {
      "text/plain": [
       "customerID          0\n",
       "gender              0\n",
       "SeniorCitizen       0\n",
       "Partner             0\n",
       "Dependents          0\n",
       "tenure              0\n",
       "PhoneService        0\n",
       "MultipleLines       0\n",
       "InternetService     0\n",
       "OnlineSecurity      0\n",
       "OnlineBackup        0\n",
       "DeviceProtection    0\n",
       "TechSupport         0\n",
       "StreamingTV         0\n",
       "StreamingMovies     0\n",
       "Contract            0\n",
       "PaperlessBilling    0\n",
       "PaymentMethod       0\n",
       "MonthlyCharges      0\n",
       "TotalCharges        0\n",
       "Churn               0\n",
       "dtype: int64"
      ]
     },
     "execution_count": 425,
     "metadata": {},
     "output_type": "execute_result"
    }
   ],
   "source": [
    "df.isnull().sum()"
   ]
  },
  {
   "cell_type": "code",
   "execution_count": 426,
   "id": "c05b458b-7d06-4e7d-8c2b-9556e31781de",
   "metadata": {},
   "outputs": [
    {
     "data": {
      "text/html": [
       "<div>\n",
       "<style scoped>\n",
       "    .dataframe tbody tr th:only-of-type {\n",
       "        vertical-align: middle;\n",
       "    }\n",
       "\n",
       "    .dataframe tbody tr th {\n",
       "        vertical-align: top;\n",
       "    }\n",
       "\n",
       "    .dataframe thead th {\n",
       "        text-align: right;\n",
       "    }\n",
       "</style>\n",
       "<table border=\"1\" class=\"dataframe\">\n",
       "  <thead>\n",
       "    <tr style=\"text-align: right;\">\n",
       "      <th></th>\n",
       "      <th>SeniorCitizen</th>\n",
       "      <th>tenure</th>\n",
       "      <th>MonthlyCharges</th>\n",
       "    </tr>\n",
       "  </thead>\n",
       "  <tbody>\n",
       "    <tr>\n",
       "      <th>count</th>\n",
       "      <td>7043.000000</td>\n",
       "      <td>7043.000000</td>\n",
       "      <td>7043.000000</td>\n",
       "    </tr>\n",
       "    <tr>\n",
       "      <th>mean</th>\n",
       "      <td>0.162147</td>\n",
       "      <td>32.371149</td>\n",
       "      <td>64.761692</td>\n",
       "    </tr>\n",
       "    <tr>\n",
       "      <th>std</th>\n",
       "      <td>0.368612</td>\n",
       "      <td>24.559481</td>\n",
       "      <td>30.090047</td>\n",
       "    </tr>\n",
       "    <tr>\n",
       "      <th>min</th>\n",
       "      <td>0.000000</td>\n",
       "      <td>0.000000</td>\n",
       "      <td>18.250000</td>\n",
       "    </tr>\n",
       "    <tr>\n",
       "      <th>25%</th>\n",
       "      <td>0.000000</td>\n",
       "      <td>9.000000</td>\n",
       "      <td>35.500000</td>\n",
       "    </tr>\n",
       "    <tr>\n",
       "      <th>50%</th>\n",
       "      <td>0.000000</td>\n",
       "      <td>29.000000</td>\n",
       "      <td>70.350000</td>\n",
       "    </tr>\n",
       "    <tr>\n",
       "      <th>75%</th>\n",
       "      <td>0.000000</td>\n",
       "      <td>55.000000</td>\n",
       "      <td>89.850000</td>\n",
       "    </tr>\n",
       "    <tr>\n",
       "      <th>max</th>\n",
       "      <td>1.000000</td>\n",
       "      <td>72.000000</td>\n",
       "      <td>118.750000</td>\n",
       "    </tr>\n",
       "  </tbody>\n",
       "</table>\n",
       "</div>"
      ],
      "text/plain": [
       "       SeniorCitizen       tenure  MonthlyCharges\n",
       "count    7043.000000  7043.000000     7043.000000\n",
       "mean        0.162147    32.371149       64.761692\n",
       "std         0.368612    24.559481       30.090047\n",
       "min         0.000000     0.000000       18.250000\n",
       "25%         0.000000     9.000000       35.500000\n",
       "50%         0.000000    29.000000       70.350000\n",
       "75%         0.000000    55.000000       89.850000\n",
       "max         1.000000    72.000000      118.750000"
      ]
     },
     "execution_count": 426,
     "metadata": {},
     "output_type": "execute_result"
    }
   ],
   "source": [
    "df.describe()"
   ]
  },
  {
   "cell_type": "code",
   "execution_count": 427,
   "id": "2a715ac3-d618-46ba-9266-4733ec5ee8ae",
   "metadata": {},
   "outputs": [],
   "source": [
    "df = df.drop(columns=['customerID'])"
   ]
  },
  {
   "cell_type": "code",
   "execution_count": 428,
   "id": "bf9cafc9-d582-43d4-9f24-f6f393672fe6",
   "metadata": {},
   "outputs": [
    {
     "data": {
      "text/plain": [
       "Churn\n",
       "No     5174\n",
       "Yes    1869\n",
       "Name: count, dtype: int64"
      ]
     },
     "execution_count": 428,
     "metadata": {},
     "output_type": "execute_result"
    }
   ],
   "source": [
    "df['Churn'].value_counts()"
   ]
  },
  {
   "cell_type": "code",
   "execution_count": 429,
   "id": "42c03b16-c439-48cd-bb67-4f70456daabe",
   "metadata": {},
   "outputs": [
    {
     "data": {
      "image/png": "[encoded data removed]",
      "text/plain": [
       "<Figure size 600x400 with 1 Axes>"
      ]
     },
     "metadata": {},
     "output_type": "display_data"
    }
   ],
   "source": [
    "churn_counts = df['Churn'].value_counts()\n",
    "plt.figure(figsize=(6,4))\n",
    "plt.bar(churn_counts.index, churn_counts.values, color=['green', 'red'])\n",
    "plt.title('Customer Churn Count')\n",
    "plt.xlabel('Churn')\n",
    "plt.ylabel('Number of Customers')\n",
    "plt.show()"
   ]
  },
  {
   "cell_type": "markdown",
   "id": "6bf3583e-af97-4788-99b2-6ddd0e51dd96",
   "metadata": {},
   "source": [
    "## Churn by Gender"
   ]
  },
  {
   "cell_type": "code",
   "execution_count": 430,
   "id": "6bed7ab7-438e-4a18-b8e8-cfc78e2dcb25",
   "metadata": {},
   "outputs": [
    {
     "data": {
      "image/png": "[encoded data removed]",
      "text/plain": [
       "<Figure size 640x480 with 1 Axes>"
      ]
     },
     "metadata": {},
     "output_type": "display_data"
    }
   ],
   "source": [
    "sns.countplot(x='gender', hue='Churn', data=df, palette='coolwarm')\n",
    "plt.title('Churn by Gender')\n",
    "plt.show()\n"
   ]
  },
  {
   "cell_type": "markdown",
   "id": "5d163059-5140-44a9-828f-e6aec1e85cfd",
   "metadata": {},
   "source": [
    "## "
   ]
  },
  {
   "cell_type": "code",
   "execution_count": 431,
   "id": "93f5fb2b-03b1-49b9-8a63-89e8d7d816ce",
   "metadata": {},
   "outputs": [
    {
     "data": {
      "image/png": "[encoded data removed]",
      "text/plain": [
       "<Figure size 640x480 with 1 Axes>"
      ]
     },
     "metadata": {},
     "output_type": "display_data"
    }
   ],
   "source": [
    "sns.boxplot(x='Churn', y='tenure', data=df, palette='Set3')\n",
    "plt.title('Tenure Distribution by Churn')\n",
    "plt.show()\n"
   ]
  },
  {
   "cell_type": "markdown",
   "id": "b57aee30-71ff-4ca0-8a4c-6b3283044a38",
   "metadata": {},
   "source": [
    "TotalCharges column from object to float\n",
    "errors='coerce' will convert any problematic (non-numeric or empty) values to NaN instead of throwing an error.\n",
    "After this, you can check for any resulting NaNs with:"
   ]
  },
  {
   "cell_type": "markdown",
   "id": "5de4d400-c818-4e39-ba09-e61090bc811c",
   "metadata": {},
   "source": [
    "## Internet Service vs Churn"
   ]
  },
  {
   "cell_type": "code",
   "execution_count": 432,
   "id": "43377086-e109-4989-b3ea-b0ecf55f1a98",
   "metadata": {},
   "outputs": [
    {
     "data": {
      "image/png": "[encoded data removed]",
      "text/plain": [
       "<Figure size 640x480 with 1 Axes>"
      ]
     },
     "metadata": {},
     "output_type": "display_data"
    }
   ],
   "source": [
    "sns.countplot(x='InternetService', hue='Churn', data=df, palette='pastel')\n",
    "plt.title('Internet Service vs Churn')\n",
    "plt.show()\n"
   ]
  },
  {
   "cell_type": "markdown",
   "id": "ca4a6d00-6be1-483b-9b27-523f1f5a19b4",
   "metadata": {},
   "source": [
    "## Monthly Charges Distribution"
   ]
  },
  {
   "cell_type": "code",
   "execution_count": 433,
   "id": "5a8f82d5-bdb0-4786-b235-8a5c0def7da4",
   "metadata": {},
   "outputs": [
    {
     "data": {
      "image/png": "[encoded data removed]",
      "text/plain": [
       "<Figure size 640x480 with 1 Axes>"
      ]
     },
     "metadata": {},
     "output_type": "display_data"
    }
   ],
   "source": [
    "sns.histplot(data=df, x='MonthlyCharges', hue='Churn', kde=True, palette='Set1')\n",
    "plt.title('Monthly Charges vs Churn')\n",
    "plt.show()\n"
   ]
  },
  {
   "cell_type": "code",
   "execution_count": 434,
   "id": "5e8822a9-ee8c-4161-a927-be92bc82a6bc",
   "metadata": {},
   "outputs": [],
   "source": [
    "df['TotalCharges'] = pd.to_numeric(df['TotalCharges'], errors='coerce')\n"
   ]
  },
  {
   "cell_type": "markdown",
   "id": "ff1ebfad-90e9-4208-953d-a4b982476e3d",
   "metadata": {},
   "source": [
    "## Heatmap for Correlation (for numerical features only)"
   ]
  },
  {
   "cell_type": "code",
   "execution_count": 435,
   "id": "e941e682-2c90-450a-a0be-1044f40269dc",
   "metadata": {},
   "outputs": [
    {
     "data": {
      "image/png": "[encoded data removed]",
      "text/plain": [
       "<Figure size 640x480 with 2 Axes>"
      ]
     },
     "metadata": {},
     "output_type": "display_data"
    }
   ],
   "source": [
    "import seaborn as sns\n",
    "import matplotlib.pyplot as plt\n",
    "\n",
    "numerical_cols = ['tenure', 'MonthlyCharges', 'TotalCharges']\n",
    "corr = df[numerical_cols].corr()\n",
    "\n",
    "sns.heatmap(corr, annot=True, cmap='coolwarm')\n",
    "plt.title('Correlation Heatmap')\n",
    "plt.show()\n"
   ]
  },
  {
   "cell_type": "code",
   "execution_count": 436,
   "id": "ab6d7cca-5946-40ca-a967-3888459b3d5a",
   "metadata": {},
   "outputs": [
    {
     "data": {
      "text/plain": [
       "gender               0\n",
       "SeniorCitizen        0\n",
       "Partner              0\n",
       "Dependents           0\n",
       "tenure               0\n",
       "PhoneService         0\n",
       "MultipleLines        0\n",
       "InternetService      0\n",
       "OnlineSecurity       0\n",
       "OnlineBackup         0\n",
       "DeviceProtection     0\n",
       "TechSupport          0\n",
       "StreamingTV          0\n",
       "StreamingMovies      0\n",
       "Contract             0\n",
       "PaperlessBilling     0\n",
       "PaymentMethod        0\n",
       "MonthlyCharges       0\n",
       "TotalCharges        11\n",
       "Churn                0\n",
       "dtype: int64"
      ]
     },
     "execution_count": 436,
     "metadata": {},
     "output_type": "execute_result"
    }
   ],
   "source": [
    "df.isnull().sum()"
   ]
  },
  {
   "cell_type": "code",
   "execution_count": 437,
   "id": "26b7cb02-bd02-4845-915b-dc52d4328c0a",
   "metadata": {},
   "outputs": [],
   "source": [
    "df = df.dropna(subset=['TotalCharges'])\n",
    "#drop rows where the TotalCharges column has NaN values, use"
   ]
  },
  {
   "cell_type": "code",
   "execution_count": 438,
   "id": "53fb8145-e346-4717-844c-5d90b70c376e",
   "metadata": {},
   "outputs": [
    {
     "data": {
      "text/plain": [
       "array([613, 362, 238, 200, 176, 170, 133, 131, 123, 119, 117, 116, 110,\n",
       "       109, 100,  99,  98,  97,  95,  94,  90,  89,  88,  87,  85,  80,\n",
       "        79,  76,  74,  73,  72,  71,  70,  69,  68,  67,  66,  65,  64,\n",
       "        63,  61,  60,  59,  57,  56,  51,  50])"
      ]
     },
     "execution_count": 438,
     "metadata": {},
     "output_type": "execute_result"
    }
   ],
   "source": [
    "df['tenure'].value_counts().unique()"
   ]
  },
  {
   "cell_type": "code",
   "execution_count": 439,
   "id": "2ebe3844-e500-4166-bf11-684d7717d06b",
   "metadata": {},
   "outputs": [
    {
     "data": {
      "text/plain": [
       "np.int64(72)"
      ]
     },
     "execution_count": 439,
     "metadata": {},
     "output_type": "execute_result"
    }
   ],
   "source": [
    "df['tenure'].max()"
   ]
  },
  {
   "cell_type": "code",
   "execution_count": 440,
   "id": "6626ca5e-2681-4935-b125-818239c712f0",
   "metadata": {},
   "outputs": [
    {
     "name": "stdout",
     "output_type": "stream",
     "text": [
      "TenureGroup\n",
      "0-1 year     2175\n",
      "1-2 years    1024\n",
      "2-3 years     832\n",
      "3-4 years     762\n",
      "4-5 years     832\n",
      "5-6 years    1407\n",
      "Name: count, dtype: int64\n"
     ]
    }
   ],
   "source": [
    "# Create a new column 'TenureGroup'\n",
    "bins = [0, 12, 24, 36, 48, 60, 72]\n",
    "labels = ['0-1 year', '1-2 years', '2-3 years', '3-4 years', '4-5 years', '5-6 years']\n",
    "\n",
    "df['TenureGroup'] = pd.cut(df['tenure'], bins=bins, labels=labels, right=True)\n",
    "\n",
    "# Group by TenureGroup and count customers\n",
    "tenure_counts = df['TenureGroup'].value_counts().sort_index()\n",
    "\n",
    "print(tenure_counts)\n",
    "df = df.drop('tenure', axis=1)\n"
   ]
  },
  {
   "cell_type": "code",
   "execution_count": 441,
   "id": "1a3db212-6055-4934-b027-5104caac5be2",
   "metadata": {},
   "outputs": [
    {
     "data": {
      "image/png": "[encoded data removed]",
      "text/plain": [
       "<Figure size 640x480 with 1 Axes>"
      ]
     },
     "metadata": {},
     "output_type": "display_data"
    }
   ],
   "source": [
    "import matplotlib.pyplot as plt\n",
    "\n",
    "tenure_counts.plot(kind='bar', color='skyblue', edgecolor='black')\n",
    "plt.title('Customer Count by Tenure Group')\n",
    "plt.xlabel('Tenure Group')\n",
    "plt.ylabel('Number of Customers')\n",
    "plt.xticks(rotation=45)\n",
    "plt.show()\n"
   ]
  },
  {
   "cell_type": "code",
   "execution_count": 442,
   "id": "0952d26e-e25b-40af-aad9-4027ba5e36a9",
   "metadata": {},
   "outputs": [],
   "source": [
    "from sklearn.pipeline import Pipeline\n",
    "from sklearn.compose import ColumnTransformer\n",
    "from sklearn.preprocessing import OneHotEncoder, StandardScaler, MinMaxScaler, FunctionTransformer\n",
    "from sklearn.ensemble import RandomForestClassifier\n",
    "from sklearn.model_selection import train_test_split\n",
    "from sklearn.metrics import accuracy_score, f1_score, roc_auc_score, classification_report\n",
    "from xgboost import XGBClassifier\n",
    "from sklearn.tree import DecisionTreeClassifier\n",
    "import warnings\n",
    "from imblearn.pipeline import Pipeline as ImbPipeline\n",
    "warnings.filterwarnings('ignore')\n",
    "from imblearn.combine import SMOTEENN"
   ]
  },
  {
   "cell_type": "code",
   "execution_count": 443,
   "id": "b0490dfc-a733-455c-bbbd-be602cbc5096",
   "metadata": {},
   "outputs": [
    {
     "data": {
      "text/plain": [
       "(7032, 20)"
      ]
     },
     "execution_count": 443,
     "metadata": {},
     "output_type": "execute_result"
    }
   ],
   "source": [
    "df.shape"
   ]
  },
  {
   "cell_type": "code",
   "execution_count": 444,
   "id": "9b18b735-9470-42a8-a4e4-77a97a2768c3",
   "metadata": {},
   "outputs": [
    {
     "data": {
      "text/html": [
       "<div>\n",
       "<style scoped>\n",
       "    .dataframe tbody tr th:only-of-type {\n",
       "        vertical-align: middle;\n",
       "    }\n",
       "\n",
       "    .dataframe tbody tr th {\n",
       "        vertical-align: top;\n",
       "    }\n",
       "\n",
       "    .dataframe thead th {\n",
       "        text-align: right;\n",
       "    }\n",
       "</style>\n",
       "<table border=\"1\" class=\"dataframe\">\n",
       "  <thead>\n",
       "    <tr style=\"text-align: right;\">\n",
       "      <th></th>\n",
       "      <th>gender</th>\n",
       "      <th>SeniorCitizen</th>\n",
       "      <th>Partner</th>\n",
       "      <th>Dependents</th>\n",
       "      <th>PhoneService</th>\n",
       "      <th>MultipleLines</th>\n",
       "      <th>InternetService</th>\n",
       "      <th>OnlineSecurity</th>\n",
       "      <th>OnlineBackup</th>\n",
       "      <th>DeviceProtection</th>\n",
       "      <th>TechSupport</th>\n",
       "      <th>StreamingTV</th>\n",
       "      <th>StreamingMovies</th>\n",
       "      <th>Contract</th>\n",
       "      <th>PaperlessBilling</th>\n",
       "      <th>PaymentMethod</th>\n",
       "      <th>MonthlyCharges</th>\n",
       "      <th>TotalCharges</th>\n",
       "      <th>Churn</th>\n",
       "      <th>TenureGroup</th>\n",
       "    </tr>\n",
       "  </thead>\n",
       "  <tbody>\n",
       "    <tr>\n",
       "      <th>0</th>\n",
       "      <td>Female</td>\n",
       "      <td>0</td>\n",
       "      <td>Yes</td>\n",
       "      <td>No</td>\n",
       "      <td>No</td>\n",
       "      <td>No phone service</td>\n",
       "      <td>DSL</td>\n",
       "      <td>No</td>\n",
       "      <td>Yes</td>\n",
       "      <td>No</td>\n",
       "      <td>No</td>\n",
       "      <td>No</td>\n",
       "      <td>No</td>\n",
       "      <td>Month-to-month</td>\n",
       "      <td>Yes</td>\n",
       "      <td>Electronic check</td>\n",
       "      <td>29.85</td>\n",
       "      <td>29.85</td>\n",
       "      <td>No</td>\n",
       "      <td>0-1 year</td>\n",
       "    </tr>\n",
       "    <tr>\n",
       "      <th>1</th>\n",
       "      <td>Male</td>\n",
       "      <td>0</td>\n",
       "      <td>No</td>\n",
       "      <td>No</td>\n",
       "      <td>Yes</td>\n",
       "      <td>No</td>\n",
       "      <td>DSL</td>\n",
       "      <td>Yes</td>\n",
       "      <td>No</td>\n",
       "      <td>Yes</td>\n",
       "      <td>No</td>\n",
       "      <td>No</td>\n",
       "      <td>No</td>\n",
       "      <td>One year</td>\n",
       "      <td>No</td>\n",
       "      <td>Mailed check</td>\n",
       "      <td>56.95</td>\n",
       "      <td>1889.50</td>\n",
       "      <td>No</td>\n",
       "      <td>2-3 years</td>\n",
       "    </tr>\n",
       "    <tr>\n",
       "      <th>2</th>\n",
       "      <td>Male</td>\n",
       "      <td>0</td>\n",
       "      <td>No</td>\n",
       "      <td>No</td>\n",
       "      <td>Yes</td>\n",
       "      <td>No</td>\n",
       "      <td>DSL</td>\n",
       "      <td>Yes</td>\n",
       "      <td>Yes</td>\n",
       "      <td>No</td>\n",
       "      <td>No</td>\n",
       "      <td>No</td>\n",
       "      <td>No</td>\n",
       "      <td>Month-to-month</td>\n",
       "      <td>Yes</td>\n",
       "      <td>Mailed check</td>\n",
       "      <td>53.85</td>\n",
       "      <td>108.15</td>\n",
       "      <td>Yes</td>\n",
       "      <td>0-1 year</td>\n",
       "    </tr>\n",
       "    <tr>\n",
       "      <th>3</th>\n",
       "      <td>Male</td>\n",
       "      <td>0</td>\n",
       "      <td>No</td>\n",
       "      <td>No</td>\n",
       "      <td>No</td>\n",
       "      <td>No phone service</td>\n",
       "      <td>DSL</td>\n",
       "      <td>Yes</td>\n",
       "      <td>No</td>\n",
       "      <td>Yes</td>\n",
       "      <td>Yes</td>\n",
       "      <td>No</td>\n",
       "      <td>No</td>\n",
       "      <td>One year</td>\n",
       "      <td>No</td>\n",
       "      <td>Bank transfer (automatic)</td>\n",
       "      <td>42.30</td>\n",
       "      <td>1840.75</td>\n",
       "      <td>No</td>\n",
       "      <td>3-4 years</td>\n",
       "    </tr>\n",
       "    <tr>\n",
       "      <th>4</th>\n",
       "      <td>Female</td>\n",
       "      <td>0</td>\n",
       "      <td>No</td>\n",
       "      <td>No</td>\n",
       "      <td>Yes</td>\n",
       "      <td>No</td>\n",
       "      <td>Fiber optic</td>\n",
       "      <td>No</td>\n",
       "      <td>No</td>\n",
       "      <td>No</td>\n",
       "      <td>No</td>\n",
       "      <td>No</td>\n",
       "      <td>No</td>\n",
       "      <td>Month-to-month</td>\n",
       "      <td>Yes</td>\n",
       "      <td>Electronic check</td>\n",
       "      <td>70.70</td>\n",
       "      <td>151.65</td>\n",
       "      <td>Yes</td>\n",
       "      <td>0-1 year</td>\n",
       "    </tr>\n",
       "    <tr>\n",
       "      <th>5</th>\n",
       "      <td>Female</td>\n",
       "      <td>0</td>\n",
       "      <td>No</td>\n",
       "      <td>No</td>\n",
       "      <td>Yes</td>\n",
       "      <td>Yes</td>\n",
       "      <td>Fiber optic</td>\n",
       "      <td>No</td>\n",
       "      <td>No</td>\n",
       "      <td>Yes</td>\n",
       "      <td>No</td>\n",
       "      <td>Yes</td>\n",
       "      <td>Yes</td>\n",
       "      <td>Month-to-month</td>\n",
       "      <td>Yes</td>\n",
       "      <td>Electronic check</td>\n",
       "      <td>99.65</td>\n",
       "      <td>820.50</td>\n",
       "      <td>Yes</td>\n",
       "      <td>0-1 year</td>\n",
       "    </tr>\n",
       "    <tr>\n",
       "      <th>6</th>\n",
       "      <td>Male</td>\n",
       "      <td>0</td>\n",
       "      <td>No</td>\n",
       "      <td>Yes</td>\n",
       "      <td>Yes</td>\n",
       "      <td>Yes</td>\n",
       "      <td>Fiber optic</td>\n",
       "      <td>No</td>\n",
       "      <td>Yes</td>\n",
       "      <td>No</td>\n",
       "      <td>No</td>\n",
       "      <td>Yes</td>\n",
       "      <td>No</td>\n",
       "      <td>Month-to-month</td>\n",
       "      <td>Yes</td>\n",
       "      <td>Credit card (automatic)</td>\n",
       "      <td>89.10</td>\n",
       "      <td>1949.40</td>\n",
       "      <td>No</td>\n",
       "      <td>1-2 years</td>\n",
       "    </tr>\n",
       "    <tr>\n",
       "      <th>7</th>\n",
       "      <td>Female</td>\n",
       "      <td>0</td>\n",
       "      <td>No</td>\n",
       "      <td>No</td>\n",
       "      <td>No</td>\n",
       "      <td>No phone service</td>\n",
       "      <td>DSL</td>\n",
       "      <td>Yes</td>\n",
       "      <td>No</td>\n",
       "      <td>No</td>\n",
       "      <td>No</td>\n",
       "      <td>No</td>\n",
       "      <td>No</td>\n",
       "      <td>Month-to-month</td>\n",
       "      <td>No</td>\n",
       "      <td>Mailed check</td>\n",
       "      <td>29.75</td>\n",
       "      <td>301.90</td>\n",
       "      <td>No</td>\n",
       "      <td>0-1 year</td>\n",
       "    </tr>\n",
       "    <tr>\n",
       "      <th>8</th>\n",
       "      <td>Female</td>\n",
       "      <td>0</td>\n",
       "      <td>Yes</td>\n",
       "      <td>No</td>\n",
       "      <td>Yes</td>\n",
       "      <td>Yes</td>\n",
       "      <td>Fiber optic</td>\n",
       "      <td>No</td>\n",
       "      <td>No</td>\n",
       "      <td>Yes</td>\n",
       "      <td>Yes</td>\n",
       "      <td>Yes</td>\n",
       "      <td>Yes</td>\n",
       "      <td>Month-to-month</td>\n",
       "      <td>Yes</td>\n",
       "      <td>Electronic check</td>\n",
       "      <td>104.80</td>\n",
       "      <td>3046.05</td>\n",
       "      <td>Yes</td>\n",
       "      <td>2-3 years</td>\n",
       "    </tr>\n",
       "    <tr>\n",
       "      <th>9</th>\n",
       "      <td>Male</td>\n",
       "      <td>0</td>\n",
       "      <td>No</td>\n",
       "      <td>Yes</td>\n",
       "      <td>Yes</td>\n",
       "      <td>No</td>\n",
       "      <td>DSL</td>\n",
       "      <td>Yes</td>\n",
       "      <td>Yes</td>\n",
       "      <td>No</td>\n",
       "      <td>No</td>\n",
       "      <td>No</td>\n",
       "      <td>No</td>\n",
       "      <td>One year</td>\n",
       "      <td>No</td>\n",
       "      <td>Bank transfer (automatic)</td>\n",
       "      <td>56.15</td>\n",
       "      <td>3487.95</td>\n",
       "      <td>No</td>\n",
       "      <td>5-6 years</td>\n",
       "    </tr>\n",
       "  </tbody>\n",
       "</table>\n",
       "</div>"
      ],
      "text/plain": [
       "   gender  SeniorCitizen Partner Dependents PhoneService     MultipleLines  \\\n",
       "0  Female              0     Yes         No           No  No phone service   \n",
       "1    Male              0      No         No          Yes                No   \n",
       "2    Male              0      No         No          Yes                No   \n",
       "3    Male              0      No         No           No  No phone service   \n",
       "4  Female              0      No         No          Yes                No   \n",
       "5  Female              0      No         No          Yes               Yes   \n",
       "6    Male              0      No        Yes          Yes               Yes   \n",
       "7  Female              0      No         No           No  No phone service   \n",
       "8  Female              0     Yes         No          Yes               Yes   \n",
       "9    Male              0      No        Yes          Yes                No   \n",
       "\n",
       "  InternetService OnlineSecurity OnlineBackup DeviceProtection TechSupport  \\\n",
       "0             DSL             No          Yes               No          No   \n",
       "1             DSL            Yes           No              Yes          No   \n",
       "2             DSL            Yes          Yes               No          No   \n",
       "3             DSL            Yes           No              Yes         Yes   \n",
       "4     Fiber optic             No           No               No          No   \n",
       "5     Fiber optic             No           No              Yes          No   \n",
       "6     Fiber optic             No          Yes               No          No   \n",
       "7             DSL            Yes           No               No          No   \n",
       "8     Fiber optic             No           No              Yes         Yes   \n",
       "9             DSL            Yes          Yes               No          No   \n",
       "\n",
       "  StreamingTV StreamingMovies        Contract PaperlessBilling  \\\n",
       "0          No              No  Month-to-month              Yes   \n",
       "1          No              No        One year               No   \n",
       "2          No              No  Month-to-month              Yes   \n",
       "3          No              No        One year               No   \n",
       "4          No              No  Month-to-month              Yes   \n",
       "5         Yes             Yes  Month-to-month              Yes   \n",
       "6         Yes              No  Month-to-month              Yes   \n",
       "7          No              No  Month-to-month               No   \n",
       "8         Yes             Yes  Month-to-month              Yes   \n",
       "9          No              No        One year               No   \n",
       "\n",
       "               PaymentMethod  MonthlyCharges  TotalCharges Churn TenureGroup  \n",
       "0           Electronic check           29.85         29.85    No    0-1 year  \n",
       "1               Mailed check           56.95       1889.50    No   2-3 years  \n",
       "2               Mailed check           53.85        108.15   Yes    0-1 year  \n",
       "3  Bank transfer (automatic)           42.30       1840.75    No   3-4 years  \n",
       "4           Electronic check           70.70        151.65   Yes    0-1 year  \n",
       "5           Electronic check           99.65        820.50   Yes    0-1 year  \n",
       "6    Credit card (automatic)           89.10       1949.40    No   1-2 years  \n",
       "7               Mailed check           29.75        301.90    No    0-1 year  \n",
       "8           Electronic check          104.80       3046.05   Yes   2-3 years  \n",
       "9  Bank transfer (automatic)           56.15       3487.95    No   5-6 years  "
      ]
     },
     "execution_count": 444,
     "metadata": {},
     "output_type": "execute_result"
    }
   ],
   "source": [
    "df.head(10)"
   ]
  },
  {
   "cell_type": "code",
   "execution_count": 445,
   "id": "c54d6112-458d-47e0-80d7-318615265fb2",
   "metadata": {},
   "outputs": [
    {
     "name": "stdout",
     "output_type": "stream",
     "text": [
      "Unique values in 'MultipleLines':\n",
      "['No phone service' 'No' 'Yes']\n",
      "--------------------------------------------------\n",
      "Unique values in 'InternetService':\n",
      "['DSL' 'Fiber optic' 'No']\n",
      "--------------------------------------------------\n",
      "Unique values in 'OnlineSecurity':\n",
      "['No' 'Yes' 'No internet service']\n",
      "--------------------------------------------------\n",
      "Unique values in 'OnlineBackup':\n",
      "['Yes' 'No' 'No internet service']\n",
      "--------------------------------------------------\n",
      "Unique values in 'DeviceProtection':\n",
      "['No' 'Yes' 'No internet service']\n",
      "--------------------------------------------------\n",
      "Unique values in 'TechSupport':\n",
      "['No' 'Yes' 'No internet service']\n",
      "--------------------------------------------------\n",
      "Unique values in 'StreamingTV':\n",
      "['No' 'Yes' 'No internet service']\n",
      "--------------------------------------------------\n",
      "Unique values in 'StreamingMovies':\n",
      "['No' 'Yes' 'No internet service']\n",
      "--------------------------------------------------\n",
      "Unique values in 'Contract':\n",
      "['Month-to-month' 'One year' 'Two year']\n",
      "--------------------------------------------------\n",
      "Unique values in 'PaymentMethod':\n",
      "['Electronic check' 'Mailed check' 'Bank transfer (automatic)'\n",
      " 'Credit card (automatic)']\n",
      "--------------------------------------------------\n",
      "Unique values in 'TenureGroup':\n",
      "['0-1 year', '2-3 years', '3-4 years', '1-2 years', '5-6 years', '4-5 years']\n",
      "Categories (6, object): ['0-1 year' < '1-2 years' < '2-3 years' < '3-4 years' < '4-5 years' < '5-6 years']\n",
      "--------------------------------------------------\n"
     ]
    }
   ],
   "source": [
    "columns_to_check = [\n",
    "    'MultipleLines', 'InternetService', 'OnlineSecurity', 'OnlineBackup',\n",
    "    'DeviceProtection', 'TechSupport', 'StreamingTV', 'StreamingMovies',\n",
    "    'Contract', 'PaymentMethod', 'TenureGroup'\n",
    "]\n",
    "\n",
    "for col in columns_to_check:\n",
    "    print(f\"Unique values in '{col}':\")\n",
    "    print(df[col].unique())\n",
    "    print('-' * 50)\n"
   ]
  },
  {
   "cell_type": "code",
   "execution_count": 446,
   "id": "f2ea1e82-99cc-4cf3-b9bd-ed57ffbfc9f4",
   "metadata": {},
   "outputs": [],
   "source": [
    "# Replace binary variables\n",
    "binary_features = ['Partner', 'Dependents', 'PhoneService', 'PaperlessBilling']\n",
    "df[binary_features] = df[binary_features].replace({'Yes': 1, 'No': 0})\n",
    "df['gender'] = df['gender'].replace({'Female': 0, 'Male': 1})\n",
    "\n",
    "# Encode target\n",
    "df['Churn'] = df['Churn'].replace({'Yes': 1, 'No': 0})"
   ]
  },
  {
   "cell_type": "code",
   "execution_count": 447,
   "id": "93065aaf-9614-4dc0-be43-b27e45006d98",
   "metadata": {},
   "outputs": [],
   "source": [
    "# 2. One-hot encode categorical features\n",
    "categorical_features = ['MultipleLines', 'InternetService', 'OnlineSecurity', 'OnlineBackup',\n",
    "                        'DeviceProtection', 'TechSupport', 'StreamingTV', 'StreamingMovies',\n",
    "                        'Contract', 'PaymentMethod', 'TenureGroup']\n",
    "df = pd.get_dummies(df, columns=categorical_features, drop_first=True)"
   ]
  },
  {
   "cell_type": "code",
   "execution_count": 448,
   "id": "4c21fc67-3521-42d7-ae78-3ac3a7566217",
   "metadata": {},
   "outputs": [],
   "source": [
    "# Standardize numerical features\n",
    "numeric_features = ['MonthlyCharges', 'TotalCharges']\n",
    "scaler = StandardScaler()\n",
    "df[numeric_features] = scaler.fit_transform(df[numeric_features])\n"
   ]
  },
  {
   "cell_type": "code",
   "execution_count": 449,
   "id": "2ae51aad-9f12-4696-9548-541e6d2117fe",
   "metadata": {},
   "outputs": [],
   "source": [
    "X = df.drop('Churn', axis=1)\n",
    "y = df['Churn']\n"
   ]
  },
  {
   "cell_type": "markdown",
   "id": "90d3bb29-8a6f-4735-8ee0-dd40624813e1",
   "metadata": {},
   "source": [
    "Handling class imbalance using the SMOTE (Synthetic Minority Over-sampling Technique) + Edited Nearest Neighbors (SMOTEENN) technique, which is a combination of two methods used to balance class distributions in imbalanced datasets.\n",
    "\n",
    "Breakdown of the code:\n",
    "SMOTE (Synthetic Minority Over-sampling Technique): This is a technique used to generate synthetic samples for the minority class (the class with fewer instances) by interpolating between existing minority class samples. The idea is to generate new, synthetic examples that help the model to learn the patterns of the minority class more effectively, thereby improving performance in imbalanced datasets.\n",
    "\n",
    "Edited Nearest Neighbors (ENN): After applying SMOTE to generate synthetic samples, Edited Nearest Neighbors is applied to clean up the synthetic data. ENN works by removing noisy, mislabeled examples that may have been introduced during the SMOTE process or are simply outliers.\n",
    "\n",
    " What is the SMOTEENN?\n",
    " SMOTEENN is a combination of both SMOTE and ENN:\n",
    "\n",
    " SMOTE: Upsamples the minority class by creating synthetic samples.\n",
    "\n",
    " ENN: Cleans up the newly created synthetic samples by removing noisy ones.\n",
    "\n",
    "This combined method is helpful when you're dealing with imbalanced data and want to both increase the minority class and clean the resulting data."
   ]
  },
  {
   "cell_type": "code",
   "execution_count": 450,
   "id": "685a7c70-0eb2-4990-9bae-f3f8d9aea667",
   "metadata": {},
   "outputs": [],
   "source": [
    "# Initialize SMOTEENN\n",
    "sm = SMOTEENN(random_state=42)\n",
    "X_resampled, y_resampled = sm.fit_resample(X, y)\n"
   ]
  },
  {
   "cell_type": "code",
   "execution_count": 451,
   "id": "41c808f9-1ff8-495c-b535-2a9c3e459e09",
   "metadata": {},
   "outputs": [],
   "source": [
    "# Split into training and testing sets\n",
    "X_train, X_test, y_train, y_test = train_test_split(\n",
    "    X_resampled, y_resampled, test_size=0.2, random_state=42, stratify=y_resampled\n",
    ")\n"
   ]
  },
  {
   "cell_type": "code",
   "execution_count": 452,
   "id": "f717cac3-8bc0-4e40-a953-fcc0e19302e4",
   "metadata": {},
   "outputs": [
    {
     "name": "stdout",
     "output_type": "stream",
     "text": [
      "Accuracy : 0.9580745341614907\n",
      "F1-score : 0.963855421686747\n",
      "ROC AUC  : 0.9924813792320768\n",
      "\n",
      "Classification Report:\n",
      "               precision    recall  f1-score   support\n",
      "\n",
      "           0       0.96      0.94      0.95       547\n",
      "           1       0.96      0.97      0.96       741\n",
      "\n",
      "    accuracy                           0.96      1288\n",
      "   macro avg       0.96      0.96      0.96      1288\n",
      "weighted avg       0.96      0.96      0.96      1288\n",
      "\n"
     ]
    }
   ],
   "source": [
    "# Train RandomForest\n",
    "model1 = RandomForestClassifier(n_estimators=100, random_state=42, n_jobs=-1)\n",
    "model1.fit(X_train, y_train)\n",
    "\n",
    "# Predict and evaluate\n",
    "y_pred = model1.predict(X_test)\n",
    "y_proba = model1.predict_proba(X_test)[:, 1]\n",
    "\n",
    "print(\"Accuracy :\", accuracy_score(y_test, y_pred))\n",
    "print(\"F1-score :\", f1_score(y_test, y_pred))\n",
    "print(\"ROC AUC  :\", roc_auc_score(y_test, y_proba))\n",
    "print(\"\\nClassification Report:\\n\", classification_report(y_test, y_pred))\n"
   ]
  },
  {
   "cell_type": "code",
   "execution_count": 453,
   "id": "b8668696-f8a8-4a03-aac1-ab27ef5cd1a5",
   "metadata": {},
   "outputs": [
    {
     "name": "stdout",
     "output_type": "stream",
     "text": [
      "              precision    recall  f1-score   support\n",
      "\n",
      "           0       0.96      0.94      0.95       547\n",
      "           1       0.95      0.97      0.96       741\n",
      "\n",
      "    accuracy                           0.96      1288\n",
      "   macro avg       0.96      0.95      0.95      1288\n",
      "weighted avg       0.96      0.96      0.96      1288\n",
      "\n",
      "Accuracy: 0.9557453416149069\n"
     ]
    }
   ],
   "source": [
    "model2 = XGBClassifier(random_state=42, use_label_encoder=False, eval_metric='logloss')\n",
    "model2.fit(X_train, y_train)\n",
    "y_pred = model2.predict(X_test)\n",
    "\n",
    "print(classification_report(y_test, y_pred))\n",
    "y_pred = model2.predict(X_test)\n",
    "print(\"Accuracy:\", accuracy_score(y_test, y_pred))"
   ]
  },
  {
   "cell_type": "code",
   "execution_count": 454,
   "id": "1306c3ca-43ce-41ac-a7b6-21ed61458830",
   "metadata": {},
   "outputs": [
    {
     "name": "stdout",
     "output_type": "stream",
     "text": [
      "Original class distribution:\n",
      "Churn\n",
      "0    5163\n",
      "1    1869\n",
      "Name: count, dtype: int64\n",
      "After SMOTEENN:\n",
      "Churn\n",
      "1    3702\n",
      "0    2735\n",
      "Name: count, dtype: int64\n"
     ]
    }
   ],
   "source": [
    "print(\"Original class distribution:\")\n",
    "print(y.value_counts())\n",
    "\n",
    "print(\"After SMOTEENN:\")\n",
    "print(pd.Series(y_resampled).value_counts())\n"
   ]
  },
  {
   "cell_type": "code",
   "execution_count": 455,
   "id": "fd3e1e32-f5d9-4920-9b23-b044bf86537b",
   "metadata": {},
   "outputs": [
    {
     "name": "stdout",
     "output_type": "stream",
     "text": [
      "Accuracy : 0.9270186335403726\n",
      "F1-score : 0.9365721997300944\n",
      "ROC AUC  : 0.9253244910899102\n",
      "\n",
      "Classification Report:\n",
      "               precision    recall  f1-score   support\n",
      "\n",
      "           0       0.91      0.91      0.91       547\n",
      "           1       0.94      0.94      0.94       741\n",
      "\n",
      "    accuracy                           0.93      1288\n",
      "   macro avg       0.93      0.93      0.93      1288\n",
      "weighted avg       0.93      0.93      0.93      1288\n",
      "\n"
     ]
    }
   ],
   "source": [
    "# Train Decision Tree model\n",
    "model3 = DecisionTreeClassifier(random_state=42)\n",
    "model3.fit(X_train, y_train)\n",
    "\n",
    "# Predictions and evaluation\n",
    "y_pred = model3.predict(X_test)\n",
    "y_proba = model3.predict_proba(X_test)[:, 1]\n",
    "\n",
    "print(\"Accuracy :\", accuracy_score(y_test, y_pred))\n",
    "print(\"F1-score :\", f1_score(y_test, y_pred))\n",
    "print(\"ROC AUC  :\", roc_auc_score(y_test, y_proba))\n",
    "print(\"\\nClassification Report:\\n\", classification_report(y_test, y_pred))"
   ]
  },
  {
   "cell_type": "markdown",
   "id": "03553790-3de3-420a-b68e-50af4b521c9a",
   "metadata": {},
   "source": [
    "## Doing samething with pipeline and column transformer"
   ]
  },
  {
   "cell_type": "code",
   "execution_count": 456,
   "id": "54b75258-26bd-4689-a321-a8db253eddf6",
   "metadata": {},
   "outputs": [],
   "source": [
    "# # Target variable\n",
    "# y = df['Churn'].replace({'Yes': 1, 'No': 0})\n",
    "# X = df.drop(['Churn'], axis=1)\n",
    "\n",
    "# # Define column categories\n",
    "# binary_features = ['Partner', 'Dependents', 'PhoneService', 'PaperlessBilling']\n",
    "# gender_feature = ['gender']\n",
    "# numeric_features = ['MonthlyCharges', 'TotalCharges']\n",
    "# categorical_features = ['MultipleLines', 'InternetService', 'OnlineSecurity', 'OnlineBackup',\n",
    "#                         'DeviceProtection', 'TechSupport', 'StreamingTV', 'StreamingMovies',\n",
    "#                         'Contract', 'PaymentMethod', 'TenureGroup']\n",
    "\n",
    "# # Binary mapping function\n",
    "# def map_binary(X):\n",
    "#     return X.replace({'Yes': 1, 'No': 0})\n",
    "\n",
    "# # Gender mapping function\n",
    "# def map_gender(X):\n",
    "#     return X.replace({'Female': 0, 'Male': 1})\n",
    "\n",
    "# # Pipelines for preprocessing\n",
    "# binary_transformer = Pipeline(steps=[\n",
    "#     ('map_binary', FunctionTransformer(map_binary))\n",
    "# ])\n",
    "\n",
    "# gender_transformer = Pipeline(steps=[\n",
    "#     ('map_gender', FunctionTransformer(map_gender))\n",
    "# ])\n",
    "\n",
    "# numeric_transformer = Pipeline(steps=[\n",
    "#     ('scaler', StandardScaler())\n",
    "# ])\n",
    "\n",
    "# categorical_transformer = Pipeline(steps=[\n",
    "#     ('onehot', OneHotEncoder(drop='first', handle_unknown='ignore', sparse_output=False))\n",
    "# ])\n",
    "\n",
    "# # Combine all into ColumnTransformer\n",
    "# preprocessor = ColumnTransformer(transformers=[\n",
    "#     ('bin', binary_transformer, binary_features),\n",
    "#     ('gen', gender_transformer, gender_feature),\n",
    "#     ('num', numeric_transformer, numeric_features),\n",
    "#     ('cat', categorical_transformer, categorical_features)\n",
    "# ])\n",
    "\n",
    "# # Create full pipeline with SMOTEENN\n",
    "# pipeline = ImbPipeline(steps=[\n",
    "#     ('preprocessor', preprocessor),\n",
    "#     ('smoteenn', SMOTEENN(random_state=42)),\n",
    "#     ('classifier', RandomForestClassifier(n_estimators=100, random_state=42, n_jobs=-1))\n",
    "# ])\n",
    "\n",
    "# # Split original data (before SMOTEENN)\n",
    "# X_train, X_test, y_train, y_test = train_test_split(\n",
    "#     X, y, test_size=0.2, stratify=y, random_state=42\n",
    "# )\n",
    "\n",
    "# # Fit the pipeline\n",
    "# pipeline.fit(X_train, y_train)\n",
    "\n",
    "# # Predict and evaluate\n",
    "# y_pred = pipeline.predict(X_test)\n",
    "# y_proba = pipeline.predict_proba(X_test)[:, 1]\n",
    "\n",
    "# print(\"Accuracy :\", accuracy_score(y_test, y_pred))\n",
    "# print(\"F1-score :\", f1_score(y_test, y_pred))\n",
    "# print(\"ROC AUC  :\", roc_auc_score(y_test, y_proba))\n",
    "# print(\"\\nClassification Report:\\n\", classification_report(y_test, y_pred))"
   ]
  },
  {
   "cell_type": "code",
   "execution_count": 457,
   "id": "a1080de6-1c89-46d8-ab39-5b85d600fac2",
   "metadata": {},
   "outputs": [],
   "source": [
    "import pickle"
   ]
  },
  {
   "cell_type": "code",
   "execution_count": 458,
   "id": "a9c555ba-322b-46d2-8189-5ae3544ae3da",
   "metadata": {},
   "outputs": [],
   "source": [
    "file = 'customer_churn.sav'"
   ]
  },
  {
   "cell_type": "code",
   "execution_count": 459,
   "id": "19a4e032-3caa-4d6b-af9d-c49f65b2c8e5",
   "metadata": {},
   "outputs": [],
   "source": [
    "pickle.dump(model1, open(file, 'wb'))"
   ]
  },
  {
   "cell_type": "code",
   "execution_count": 460,
   "id": "7da56abe-31aa-4e99-9981-5797d0c902d1",
   "metadata": {},
   "outputs": [],
   "source": [
    "load_model = pickle.load(open(file,'rb'))"
   ]
  },
  {
   "cell_type": "code",
   "execution_count": 461,
   "id": "65f204d6-f4e7-4f2c-91fe-c94231360d90",
   "metadata": {},
   "outputs": [
    {
     "data": {
      "text/plain": [
       "0.9580745341614907"
      ]
     },
     "execution_count": 461,
     "metadata": {},
     "output_type": "execute_result"
    }
   ],
   "source": [
    "load_model.score(X_test, y_test)"
   ]
  },
  {
   "cell_type": "code",
   "execution_count": null,
   "id": "a2be6609-2b02-4785-8a9d-2f17eda607de",
   "metadata": {},
   "outputs": [],
   "source": []
  }
 ],
 "metadata": {
  "kernelspec": {
   "display_name": "Python 3 (ipykernel)",
   "language": "python",
   "name": "python3"
  },
  "language_info": {
   "codemirror_mode": {
    "name": "ipython",
    "version": 3
   },
   "file_extension": ".py",
   "mimetype": "text/x-python",
   "name": "python",
   "nbconvert_exporter": "python",
   "pygments_lexer": "ipython3",
   "version": "3.11.9"
  }
 },
 "nbformat": 4,
 "nbformat_minor": 5
}
